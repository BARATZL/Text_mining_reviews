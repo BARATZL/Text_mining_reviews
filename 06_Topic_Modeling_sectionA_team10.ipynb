{
 "cells": [
  {
   "cell_type": "markdown",
   "id": "175ab7a2-4bd3-4502-9a9b-4823615f62da",
   "metadata": {
    "jp-MarkdownHeadingCollapsed": true,
    "tags": []
   },
   "source": [
    "## Processing data"
   ]
  },
  {
   "cell_type": "code",
   "execution_count": 1,
   "id": "67bd1b3d-90c8-48f0-86dd-12ee4dea77af",
   "metadata": {
    "tags": []
   },
   "outputs": [],
   "source": [
    "import pandas as pd\n",
    "cafe_reviews = pd.read_parquet(\"cafe_reviews.parquet\")"
   ]
  },
  {
   "cell_type": "code",
   "execution_count": 10,
   "id": "fa8cec14-b19b-49aa-ab9c-20e1c6dc959c",
   "metadata": {
    "tags": []
   },
   "outputs": [
    {
     "name": "stderr",
     "output_type": "stream",
     "text": [
      "[nltk_data] Downloading package stopwords to\n",
      "[nltk_data]     /home/jupyter/nltk_data...\n",
      "[nltk_data]   Package stopwords is already up-to-date!\n",
      "[nltk_data] Downloading package punkt to /home/jupyter/nltk_data...\n",
      "[nltk_data]   Package punkt is already up-to-date!\n",
      "[nltk_data] Downloading package punkt_tab to\n",
      "[nltk_data]     /home/jupyter/nltk_data...\n",
      "[nltk_data]   Package punkt_tab is already up-to-date!\n",
      "[nltk_data] Downloading package words to /home/jupyter/nltk_data...\n",
      "[nltk_data]   Package words is already up-to-date!\n"
     ]
    }
   ],
   "source": [
    "import nltk\n",
    "from nltk.corpus import stopwords\n",
    "from nltk.tokenize import word_tokenize\n",
    "from nltk.tokenize.casual import TweetTokenizer\n",
    "import string\n",
    "from sklearn.feature_extraction.text import CountVectorizer\n",
    "from nltk.tokenize import word_tokenize, sent_tokenize, WhitespaceTokenizer, RegexpTokenizer\n",
    "from nltk.corpus import words\n",
    "from nltk.tokenize import SyllableTokenizer\n",
    "\n",
    "# download package\n",
    "nltk.download('stopwords')\n",
    "nltk.download('punkt')\n",
    "nltk.download('punkt_tab')\n",
    "nltk.download('words')\n",
    "\n",
    "# upload stopwords and string\n",
    "punctuations = set(string.punctuation)\n",
    "english_words = set(words.words())"
   ]
  },
  {
   "cell_type": "code",
   "execution_count": 7,
   "id": "83ba59c6-279f-44f9-bc64-43d5501061fc",
   "metadata": {
    "tags": []
   },
   "outputs": [
    {
     "data": {
      "text/plain": [
       "26696      Good Starbucks location and easy to get in and...\n",
       "34514      Wonderful staff here really make the visit eve...\n",
       "40368      Ordered 2 coffees and a muffin. Got one coffee...\n",
       "72933      Thanks to extremely poor customer service that...\n",
       "79525      This is probably my favorite Starbucks. It's r...\n",
       "                                 ...                        \n",
       "6953906    Excellent staff and excellent service. They al...\n",
       "6975191    One photo is from the Starbucks on Jefferson a...\n",
       "6977330    Always so fast! The staff is knowledgeable and...\n",
       "6982298    We always get friendly and professional servic...\n",
       "6986107    All downtown coffeeshops were closed, so went ...\n",
       "Name: text, Length: 978, dtype: object"
      ]
     },
     "execution_count": 7,
     "metadata": {},
     "output_type": "execute_result"
    }
   ],
   "source": [
    "cafe_reviews['text']"
   ]
  },
  {
   "cell_type": "code",
   "execution_count": 8,
   "id": "7915a358-0ef7-4142-b334-5d5e448ff0cf",
   "metadata": {
    "tags": []
   },
   "outputs": [
    {
     "data": {
      "text/html": [
       "<div>\n",
       "<style scoped>\n",
       "    .dataframe tbody tr th:only-of-type {\n",
       "        vertical-align: middle;\n",
       "    }\n",
       "\n",
       "    .dataframe tbody tr th {\n",
       "        vertical-align: top;\n",
       "    }\n",
       "\n",
       "    .dataframe thead th {\n",
       "        text-align: right;\n",
       "    }\n",
       "</style>\n",
       "<table border=\"1\" class=\"dataframe\">\n",
       "  <thead>\n",
       "    <tr style=\"text-align: right;\">\n",
       "      <th></th>\n",
       "      <th>text</th>\n",
       "    </tr>\n",
       "  </thead>\n",
       "  <tbody>\n",
       "    <tr>\n",
       "      <th>26696</th>\n",
       "      <td>good starbucks location and easy to get in and...</td>\n",
       "    </tr>\n",
       "    <tr>\n",
       "      <th>34514</th>\n",
       "      <td>wonderful staff here really make the visit eve...</td>\n",
       "    </tr>\n",
       "    <tr>\n",
       "      <th>40368</th>\n",
       "      <td>ordered 2 coffees and a muffin. got one coffee...</td>\n",
       "    </tr>\n",
       "    <tr>\n",
       "      <th>72933</th>\n",
       "      <td>thanks to extremely poor customer service that...</td>\n",
       "    </tr>\n",
       "    <tr>\n",
       "      <th>79525</th>\n",
       "      <td>this is probably my favorite starbucks. it's r...</td>\n",
       "    </tr>\n",
       "    <tr>\n",
       "      <th>...</th>\n",
       "      <td>...</td>\n",
       "    </tr>\n",
       "    <tr>\n",
       "      <th>6953906</th>\n",
       "      <td>excellent staff and excellent service. they al...</td>\n",
       "    </tr>\n",
       "    <tr>\n",
       "      <th>6975191</th>\n",
       "      <td>one photo is from the starbucks on jefferson a...</td>\n",
       "    </tr>\n",
       "    <tr>\n",
       "      <th>6977330</th>\n",
       "      <td>always so fast! the staff is knowledgeable and...</td>\n",
       "    </tr>\n",
       "    <tr>\n",
       "      <th>6982298</th>\n",
       "      <td>we always get friendly and professional servic...</td>\n",
       "    </tr>\n",
       "    <tr>\n",
       "      <th>6986107</th>\n",
       "      <td>all downtown coffeeshops were closed, so went ...</td>\n",
       "    </tr>\n",
       "  </tbody>\n",
       "</table>\n",
       "<p>978 rows × 1 columns</p>\n",
       "</div>"
      ],
      "text/plain": [
       "                                                      text\n",
       "26696    good starbucks location and easy to get in and...\n",
       "34514    wonderful staff here really make the visit eve...\n",
       "40368    ordered 2 coffees and a muffin. got one coffee...\n",
       "72933    thanks to extremely poor customer service that...\n",
       "79525    this is probably my favorite starbucks. it's r...\n",
       "...                                                    ...\n",
       "6953906  excellent staff and excellent service. they al...\n",
       "6975191  one photo is from the starbucks on jefferson a...\n",
       "6977330  always so fast! the staff is knowledgeable and...\n",
       "6982298  we always get friendly and professional servic...\n",
       "6986107  all downtown coffeeshops were closed, so went ...\n",
       "\n",
       "[978 rows x 1 columns]"
      ]
     },
     "execution_count": 8,
     "metadata": {},
     "output_type": "execute_result"
    }
   ],
   "source": [
    "cr_text = pd.DataFrame(cafe_reviews.text.str.lower())\n",
    "cr_text"
   ]
  },
  {
   "cell_type": "markdown",
   "id": "e583037b-539c-43f5-bbab-4bf916d73eee",
   "metadata": {
    "jp-MarkdownHeadingCollapsed": true,
    "tags": []
   },
   "source": [
    "### clean the text"
   ]
  },
  {
   "cell_type": "code",
   "execution_count": 11,
   "id": "099d4df4-c87e-405f-8567-ebd81d72d35a",
   "metadata": {
    "tags": []
   },
   "outputs": [
    {
     "data": {
      "text/plain": [
       "['good',\n",
       " 'starbucks',\n",
       " 'location',\n",
       " 'and',\n",
       " 'easy',\n",
       " 'to',\n",
       " 'get',\n",
       " 'in',\n",
       " 'and',\n",
       " 'out',\n",
       " 'of',\n",
       " '.',\n",
       " 'this',\n",
       " 'location',\n",
       " 'has',\n",
       " 'a',\n",
       " 'larger',\n",
       " 'front',\n",
       " 'patio',\n",
       " 'with',\n",
       " 'plenty',\n",
       " 'of',\n",
       " 'outdoor',\n",
       " 'seating',\n",
       " 'if',\n",
       " 'you',\n",
       " 'so',\n",
       " 'choose',\n",
       " '.',\n",
       " 'the',\n",
       " 'inside',\n",
       " 'is',\n",
       " 'also',\n",
       " 'a',\n",
       " 'good',\n",
       " 'size',\n",
       " '.',\n",
       " 'friendly',\n",
       " 'staff',\n",
       " 'and',\n",
       " 'i',\n",
       " 'was',\n",
       " 'in',\n",
       " 'and',\n",
       " 'out',\n",
       " '.',\n",
       " 'almost',\n",
       " 'tempted',\n",
       " 'to',\n",
       " 'grab',\n",
       " 'a',\n",
       " 'glass',\n",
       " 'of',\n",
       " 'wine',\n",
       " 'instead',\n",
       " 'but',\n",
       " 'stayed',\n",
       " 'the',\n",
       " 'course',\n",
       " 'and',\n",
       " 'went',\n",
       " 'for',\n",
       " 's',\n",
       " 'jolt',\n",
       " '.']"
      ]
     },
     "execution_count": 11,
     "metadata": {},
     "output_type": "execute_result"
    }
   ],
   "source": [
    "casual_tknzr = TweetTokenizer(reduce_len=True)\n",
    "cafe_tokenized = [casual_tknzr.tokenize(t) for t in cr_text['text']] \n",
    "cafe_tokenized[0]"
   ]
  },
  {
   "cell_type": "code",
   "execution_count": 12,
   "id": "ccde6090-e44c-4ff3-9c0a-3c06c40f5d8e",
   "metadata": {
    "tags": []
   },
   "outputs": [
    {
     "name": "stdout",
     "output_type": "stream",
     "text": [
      "['wonderful', 'staff', 'really', 'make', 'visit', 'every', 'time', 'coffee', 'consistently', 'good', 'design', 'layout', 'particular', 'franchise', 'nice', 'staff', 'make', 'star', 'experience', 'friendly', 'knowledgeable', 'willing', 'go', 'way', 'make', 'sure', 'customer', 'great', 'experience']\n"
     ]
    }
   ],
   "source": [
    "english_words = set(words.words())\n",
    "stop_words = set(stopwords.words('english'))\n",
    "#punctuations = set(string.punctuation) Interested in removing these to see if it helps. if not, paste -> into list comprehension. ||| and word not in punctuations\n",
    "cafe_txt_filtered = [[word for word in sentence if word.lower() not in stop_words and word.lower() in english_words] for sentence in cafe_tokenized]\n",
    "cafe_txt_trunc = [sentence[:30] for sentence in cafe_txt_filtered]  # shortening reviews to 30 tokens. Hopes to fix computation\n",
    "print(cafe_txt_trunc[1])"
   ]
  },
  {
   "cell_type": "code",
   "execution_count": 13,
   "id": "b6fc184a-2317-4de3-8f5e-f106464746fa",
   "metadata": {
    "tags": []
   },
   "outputs": [],
   "source": [
    "cr_text[\"clean_text\"] = [\" \".join(sentence) for sentence in cafe_txt_trunc]\n",
    "cv = CountVectorizer()\n",
    "t = cv.fit_transform(cr_text[\"clean_text\"])"
   ]
  },
  {
   "cell_type": "code",
   "execution_count": 14,
   "id": "dc707a98-63d0-4f2e-852b-88dde5876d97",
   "metadata": {
    "tags": []
   },
   "outputs": [],
   "source": [
    "freq_array = t.sum(axis=0).A1\n",
    "cafe_token_freq = pd.DataFrame({\"token\": cv.get_feature_names_out(), 'freq_count': freq_array})"
   ]
  },
  {
   "cell_type": "code",
   "execution_count": 15,
   "id": "ba4462c0-204c-4e1d-9392-1329e7fe3fb4",
   "metadata": {
    "tags": []
   },
   "outputs": [
    {
     "data": {
      "text/html": [
       "<div>\n",
       "<style scoped>\n",
       "    .dataframe tbody tr th:only-of-type {\n",
       "        vertical-align: middle;\n",
       "    }\n",
       "\n",
       "    .dataframe tbody tr th {\n",
       "        vertical-align: top;\n",
       "    }\n",
       "\n",
       "    .dataframe thead th {\n",
       "        text-align: right;\n",
       "    }\n",
       "</style>\n",
       "<table border=\"1\" class=\"dataframe\">\n",
       "  <thead>\n",
       "    <tr style=\"text-align: right;\">\n",
       "      <th></th>\n",
       "      <th>token</th>\n",
       "      <th>freq_count</th>\n",
       "    </tr>\n",
       "  </thead>\n",
       "  <tbody>\n",
       "    <tr>\n",
       "      <th>449</th>\n",
       "      <td>coffee</td>\n",
       "      <td>341</td>\n",
       "    </tr>\n",
       "    <tr>\n",
       "      <th>1399</th>\n",
       "      <td>location</td>\n",
       "      <td>326</td>\n",
       "    </tr>\n",
       "    <tr>\n",
       "      <th>1018</th>\n",
       "      <td>get</td>\n",
       "      <td>284</td>\n",
       "    </tr>\n",
       "    <tr>\n",
       "      <th>725</th>\n",
       "      <td>drink</td>\n",
       "      <td>260</td>\n",
       "    </tr>\n",
       "    <tr>\n",
       "      <th>1677</th>\n",
       "      <td>order</td>\n",
       "      <td>256</td>\n",
       "    </tr>\n",
       "    <tr>\n",
       "      <th>...</th>\n",
       "      <td>...</td>\n",
       "      <td>...</td>\n",
       "    </tr>\n",
       "    <tr>\n",
       "      <th>1906</th>\n",
       "      <td>queen</td>\n",
       "      <td>1</td>\n",
       "    </tr>\n",
       "    <tr>\n",
       "      <th>1905</th>\n",
       "      <td>quarters</td>\n",
       "      <td>1</td>\n",
       "    </tr>\n",
       "    <tr>\n",
       "      <th>858</th>\n",
       "      <td>expressed</td>\n",
       "      <td>1</td>\n",
       "    </tr>\n",
       "    <tr>\n",
       "      <th>1902</th>\n",
       "      <td>quaint</td>\n",
       "      <td>1</td>\n",
       "    </tr>\n",
       "    <tr>\n",
       "      <th>666</th>\n",
       "      <td>dimmed</td>\n",
       "      <td>1</td>\n",
       "    </tr>\n",
       "  </tbody>\n",
       "</table>\n",
       "<p>2820 rows × 2 columns</p>\n",
       "</div>"
      ],
      "text/plain": [
       "          token  freq_count\n",
       "449      coffee         341\n",
       "1399   location         326\n",
       "1018        get         284\n",
       "725       drink         260\n",
       "1677      order         256\n",
       "...         ...         ...\n",
       "1906      queen           1\n",
       "1905   quarters           1\n",
       "858   expressed           1\n",
       "1902     quaint           1\n",
       "666      dimmed           1\n",
       "\n",
       "[2820 rows x 2 columns]"
      ]
     },
     "execution_count": 15,
     "metadata": {},
     "output_type": "execute_result"
    }
   ],
   "source": [
    "cafe_token_freq.sort_values(by='freq_count', ascending=False)"
   ]
  },
  {
   "cell_type": "markdown",
   "id": "a519244d-81ab-4e41-a138-602eab7a8a28",
   "metadata": {
    "jp-MarkdownHeadingCollapsed": true,
    "tags": []
   },
   "source": [
    "### vectorize"
   ]
  },
  {
   "cell_type": "code",
   "execution_count": 16,
   "id": "ddb59ad0-2212-48cb-b1bd-ba47005a39e5",
   "metadata": {
    "tags": []
   },
   "outputs": [],
   "source": [
    "import scipy.sparse\n",
    "from sklearn.feature_extraction.text import TfidfVectorizer\n",
    "\n",
    "# Save TF-IDF as a sparse matrix (NO `.toarray()`)\n",
    "tfidf_model = TfidfVectorizer()\n",
    "df_tfidf_transformed = tfidf_model.fit_transform(cr_text[\"clean_text\"])"
   ]
  },
  {
   "cell_type": "code",
   "execution_count": 17,
   "id": "2ea5dfac-f101-49b4-848d-4e1c810601fe",
   "metadata": {
    "tags": []
   },
   "outputs": [
    {
     "data": {
      "text/html": [
       "<div>\n",
       "<style scoped>\n",
       "    .dataframe tbody tr th:only-of-type {\n",
       "        vertical-align: middle;\n",
       "    }\n",
       "\n",
       "    .dataframe tbody tr th {\n",
       "        vertical-align: top;\n",
       "    }\n",
       "\n",
       "    .dataframe thead th {\n",
       "        text-align: right;\n",
       "    }\n",
       "</style>\n",
       "<table border=\"1\" class=\"dataframe\">\n",
       "  <thead>\n",
       "    <tr style=\"text-align: right;\">\n",
       "      <th></th>\n",
       "      <th>able</th>\n",
       "      <th>abominable</th>\n",
       "      <th>absent</th>\n",
       "      <th>absolute</th>\n",
       "      <th>absolutely</th>\n",
       "      <th>absurdly</th>\n",
       "      <th>accept</th>\n",
       "      <th>acceptable</th>\n",
       "      <th>access</th>\n",
       "      <th>accident</th>\n",
       "      <th>...</th>\n",
       "      <th>yet</th>\n",
       "      <th>yo</th>\n",
       "      <th>york</th>\n",
       "      <th>young</th>\n",
       "      <th>younger</th>\n",
       "      <th>yummy</th>\n",
       "      <th>zero</th>\n",
       "      <th>zone</th>\n",
       "      <th>zoo</th>\n",
       "      <th>zoom</th>\n",
       "    </tr>\n",
       "  </thead>\n",
       "  <tbody>\n",
       "    <tr>\n",
       "      <th>0</th>\n",
       "      <td>0</td>\n",
       "      <td>0</td>\n",
       "      <td>0</td>\n",
       "      <td>0</td>\n",
       "      <td>0</td>\n",
       "      <td>0</td>\n",
       "      <td>0</td>\n",
       "      <td>0</td>\n",
       "      <td>0</td>\n",
       "      <td>0</td>\n",
       "      <td>...</td>\n",
       "      <td>0</td>\n",
       "      <td>0</td>\n",
       "      <td>0</td>\n",
       "      <td>0</td>\n",
       "      <td>0</td>\n",
       "      <td>0</td>\n",
       "      <td>0</td>\n",
       "      <td>0</td>\n",
       "      <td>0</td>\n",
       "      <td>0</td>\n",
       "    </tr>\n",
       "    <tr>\n",
       "      <th>1</th>\n",
       "      <td>0</td>\n",
       "      <td>0</td>\n",
       "      <td>0</td>\n",
       "      <td>0</td>\n",
       "      <td>0</td>\n",
       "      <td>0</td>\n",
       "      <td>0</td>\n",
       "      <td>0</td>\n",
       "      <td>0</td>\n",
       "      <td>0</td>\n",
       "      <td>...</td>\n",
       "      <td>0</td>\n",
       "      <td>0</td>\n",
       "      <td>0</td>\n",
       "      <td>0</td>\n",
       "      <td>0</td>\n",
       "      <td>0</td>\n",
       "      <td>0</td>\n",
       "      <td>0</td>\n",
       "      <td>0</td>\n",
       "      <td>0</td>\n",
       "    </tr>\n",
       "    <tr>\n",
       "      <th>2</th>\n",
       "      <td>0</td>\n",
       "      <td>0</td>\n",
       "      <td>0</td>\n",
       "      <td>0</td>\n",
       "      <td>0</td>\n",
       "      <td>0</td>\n",
       "      <td>0</td>\n",
       "      <td>0</td>\n",
       "      <td>0</td>\n",
       "      <td>0</td>\n",
       "      <td>...</td>\n",
       "      <td>0</td>\n",
       "      <td>0</td>\n",
       "      <td>0</td>\n",
       "      <td>0</td>\n",
       "      <td>0</td>\n",
       "      <td>0</td>\n",
       "      <td>0</td>\n",
       "      <td>0</td>\n",
       "      <td>0</td>\n",
       "      <td>0</td>\n",
       "    </tr>\n",
       "    <tr>\n",
       "      <th>3</th>\n",
       "      <td>0</td>\n",
       "      <td>0</td>\n",
       "      <td>0</td>\n",
       "      <td>0</td>\n",
       "      <td>0</td>\n",
       "      <td>0</td>\n",
       "      <td>0</td>\n",
       "      <td>0</td>\n",
       "      <td>0</td>\n",
       "      <td>0</td>\n",
       "      <td>...</td>\n",
       "      <td>0</td>\n",
       "      <td>0</td>\n",
       "      <td>0</td>\n",
       "      <td>0</td>\n",
       "      <td>0</td>\n",
       "      <td>0</td>\n",
       "      <td>0</td>\n",
       "      <td>0</td>\n",
       "      <td>0</td>\n",
       "      <td>0</td>\n",
       "    </tr>\n",
       "    <tr>\n",
       "      <th>4</th>\n",
       "      <td>0</td>\n",
       "      <td>0</td>\n",
       "      <td>0</td>\n",
       "      <td>0</td>\n",
       "      <td>0</td>\n",
       "      <td>0</td>\n",
       "      <td>0</td>\n",
       "      <td>0</td>\n",
       "      <td>0</td>\n",
       "      <td>0</td>\n",
       "      <td>...</td>\n",
       "      <td>0</td>\n",
       "      <td>0</td>\n",
       "      <td>0</td>\n",
       "      <td>0</td>\n",
       "      <td>0</td>\n",
       "      <td>0</td>\n",
       "      <td>0</td>\n",
       "      <td>0</td>\n",
       "      <td>0</td>\n",
       "      <td>0</td>\n",
       "    </tr>\n",
       "    <tr>\n",
       "      <th>...</th>\n",
       "      <td>...</td>\n",
       "      <td>...</td>\n",
       "      <td>...</td>\n",
       "      <td>...</td>\n",
       "      <td>...</td>\n",
       "      <td>...</td>\n",
       "      <td>...</td>\n",
       "      <td>...</td>\n",
       "      <td>...</td>\n",
       "      <td>...</td>\n",
       "      <td>...</td>\n",
       "      <td>...</td>\n",
       "      <td>...</td>\n",
       "      <td>...</td>\n",
       "      <td>...</td>\n",
       "      <td>...</td>\n",
       "      <td>...</td>\n",
       "      <td>...</td>\n",
       "      <td>...</td>\n",
       "      <td>...</td>\n",
       "      <td>...</td>\n",
       "    </tr>\n",
       "    <tr>\n",
       "      <th>973</th>\n",
       "      <td>0</td>\n",
       "      <td>0</td>\n",
       "      <td>0</td>\n",
       "      <td>0</td>\n",
       "      <td>0</td>\n",
       "      <td>0</td>\n",
       "      <td>0</td>\n",
       "      <td>0</td>\n",
       "      <td>0</td>\n",
       "      <td>0</td>\n",
       "      <td>...</td>\n",
       "      <td>0</td>\n",
       "      <td>0</td>\n",
       "      <td>0</td>\n",
       "      <td>0</td>\n",
       "      <td>0</td>\n",
       "      <td>0</td>\n",
       "      <td>0</td>\n",
       "      <td>0</td>\n",
       "      <td>0</td>\n",
       "      <td>0</td>\n",
       "    </tr>\n",
       "    <tr>\n",
       "      <th>974</th>\n",
       "      <td>0</td>\n",
       "      <td>0</td>\n",
       "      <td>0</td>\n",
       "      <td>0</td>\n",
       "      <td>0</td>\n",
       "      <td>0</td>\n",
       "      <td>0</td>\n",
       "      <td>0</td>\n",
       "      <td>0</td>\n",
       "      <td>0</td>\n",
       "      <td>...</td>\n",
       "      <td>0</td>\n",
       "      <td>0</td>\n",
       "      <td>0</td>\n",
       "      <td>0</td>\n",
       "      <td>0</td>\n",
       "      <td>0</td>\n",
       "      <td>0</td>\n",
       "      <td>0</td>\n",
       "      <td>0</td>\n",
       "      <td>0</td>\n",
       "    </tr>\n",
       "    <tr>\n",
       "      <th>975</th>\n",
       "      <td>0</td>\n",
       "      <td>0</td>\n",
       "      <td>0</td>\n",
       "      <td>0</td>\n",
       "      <td>0</td>\n",
       "      <td>0</td>\n",
       "      <td>0</td>\n",
       "      <td>0</td>\n",
       "      <td>0</td>\n",
       "      <td>0</td>\n",
       "      <td>...</td>\n",
       "      <td>0</td>\n",
       "      <td>0</td>\n",
       "      <td>0</td>\n",
       "      <td>0</td>\n",
       "      <td>0</td>\n",
       "      <td>0</td>\n",
       "      <td>0</td>\n",
       "      <td>0</td>\n",
       "      <td>0</td>\n",
       "      <td>0</td>\n",
       "    </tr>\n",
       "    <tr>\n",
       "      <th>976</th>\n",
       "      <td>0</td>\n",
       "      <td>0</td>\n",
       "      <td>0</td>\n",
       "      <td>0</td>\n",
       "      <td>0</td>\n",
       "      <td>0</td>\n",
       "      <td>0</td>\n",
       "      <td>0</td>\n",
       "      <td>0</td>\n",
       "      <td>0</td>\n",
       "      <td>...</td>\n",
       "      <td>0</td>\n",
       "      <td>0</td>\n",
       "      <td>0</td>\n",
       "      <td>0</td>\n",
       "      <td>0</td>\n",
       "      <td>0</td>\n",
       "      <td>0</td>\n",
       "      <td>0</td>\n",
       "      <td>0</td>\n",
       "      <td>0</td>\n",
       "    </tr>\n",
       "    <tr>\n",
       "      <th>977</th>\n",
       "      <td>0</td>\n",
       "      <td>0</td>\n",
       "      <td>0</td>\n",
       "      <td>0</td>\n",
       "      <td>0</td>\n",
       "      <td>0</td>\n",
       "      <td>0</td>\n",
       "      <td>0</td>\n",
       "      <td>0</td>\n",
       "      <td>0</td>\n",
       "      <td>...</td>\n",
       "      <td>0</td>\n",
       "      <td>0</td>\n",
       "      <td>0</td>\n",
       "      <td>0</td>\n",
       "      <td>0</td>\n",
       "      <td>0</td>\n",
       "      <td>0.187967</td>\n",
       "      <td>0</td>\n",
       "      <td>0</td>\n",
       "      <td>0</td>\n",
       "    </tr>\n",
       "  </tbody>\n",
       "</table>\n",
       "<p>978 rows × 2820 columns</p>\n",
       "</div>"
      ],
      "text/plain": [
       "     able  abominable  absent  absolute  absolutely  absurdly  accept  \\\n",
       "0       0           0       0         0           0         0       0   \n",
       "1       0           0       0         0           0         0       0   \n",
       "2       0           0       0         0           0         0       0   \n",
       "3       0           0       0         0           0         0       0   \n",
       "4       0           0       0         0           0         0       0   \n",
       "..    ...         ...     ...       ...         ...       ...     ...   \n",
       "973     0           0       0         0           0         0       0   \n",
       "974     0           0       0         0           0         0       0   \n",
       "975     0           0       0         0           0         0       0   \n",
       "976     0           0       0         0           0         0       0   \n",
       "977     0           0       0         0           0         0       0   \n",
       "\n",
       "     acceptable  access  accident  ...  yet  yo  york  young  younger  yummy  \\\n",
       "0             0       0         0  ...    0   0     0      0        0      0   \n",
       "1             0       0         0  ...    0   0     0      0        0      0   \n",
       "2             0       0         0  ...    0   0     0      0        0      0   \n",
       "3             0       0         0  ...    0   0     0      0        0      0   \n",
       "4             0       0         0  ...    0   0     0      0        0      0   \n",
       "..          ...     ...       ...  ...  ...  ..   ...    ...      ...    ...   \n",
       "973           0       0         0  ...    0   0     0      0        0      0   \n",
       "974           0       0         0  ...    0   0     0      0        0      0   \n",
       "975           0       0         0  ...    0   0     0      0        0      0   \n",
       "976           0       0         0  ...    0   0     0      0        0      0   \n",
       "977           0       0         0  ...    0   0     0      0        0      0   \n",
       "\n",
       "         zero  zone  zoo  zoom  \n",
       "0           0     0    0     0  \n",
       "1           0     0    0     0  \n",
       "2           0     0    0     0  \n",
       "3           0     0    0     0  \n",
       "4           0     0    0     0  \n",
       "..        ...   ...  ...   ...  \n",
       "973         0     0    0     0  \n",
       "974         0     0    0     0  \n",
       "975         0     0    0     0  \n",
       "976         0     0    0     0  \n",
       "977  0.187967     0    0     0  \n",
       "\n",
       "[978 rows x 2820 columns]"
      ]
     },
     "execution_count": 17,
     "metadata": {},
     "output_type": "execute_result"
    }
   ],
   "source": [
    "tfidf_vectors = pd.DataFrame.sparse.from_spmatrix(df_tfidf_transformed, columns=tfidf_model.get_feature_names_out())\n",
    "\n",
    "tfidf_vectors"
   ]
  },
  {
   "cell_type": "markdown",
   "id": "9e3cf831-02fd-4bbe-ae1a-2eddf1a319e1",
   "metadata": {},
   "source": [
    "With this, we can begin topic modeling."
   ]
  },
  {
   "cell_type": "markdown",
   "id": "b082cb68-5e77-4536-a306-cc40783899f1",
   "metadata": {
    "jp-MarkdownHeadingCollapsed": true,
    "tags": []
   },
   "source": [
    "## Topic Modeling"
   ]
  },
  {
   "cell_type": "markdown",
   "id": "a6233d47-fc4c-4af6-a1f1-9388f1465450",
   "metadata": {
    "jp-MarkdownHeadingCollapsed": true,
    "tags": []
   },
   "source": [
    "### LDA method"
   ]
  },
  {
   "cell_type": "code",
   "execution_count": 18,
   "id": "1f38ea4f-4183-466f-adc0-22d674d304c7",
   "metadata": {},
   "outputs": [
    {
     "data": {
      "image/png": "[encoded data removed]",
      "text/plain": [
       "<Figure size 640x480 with 1 Axes>"
      ]
     },
     "metadata": {},
     "output_type": "display_data"
    }
   ],
   "source": [
    "import numpy as np\n",
    "import matplotlib.pyplot as plt\n",
    "from sklearn.decomposition import LatentDirichletAllocation\n",
    "\n",
    "perplexities = [] #lower perplexity = better\n",
    "topic_range = range(2,6)\n",
    "\n",
    "for num_topics in topic_range:\n",
    "    lda = LatentDirichletAllocation(n_components=num_topics, random_state=42)\n",
    "    lda.fit(df_tfidf_transformed)\n",
    "    perplexities.append(lda.perplexity(df_tfidf_transformed))\n",
    "\n",
    "import matplotlib.pyplot as plt\n",
    "\n",
    "plt.plot(topic_range, perplexities, marker='o')\n",
    "plt.xlabel(\"Number of Topics\")\n",
    "plt.ylabel(\"Perplexity\")\n",
    "plt.title(\"Perplexity vs. Number of Topics\")\n",
    "plt.show()"
   ]
  },
  {
   "cell_type": "markdown",
   "id": "bc7ce489-e057-4079-9726-49ce19122bad",
   "metadata": {},
   "source": [
    "Since the perplexity graph line is increasing as the number of topics grow, it appears that adding more topics is making the model less effective. So, the best choice would be 2 topics because it has the lowest perplexity."
   ]
  },
  {
   "cell_type": "code",
   "execution_count": 19,
   "id": "1730d33c-2e91-4cdb-a8e8-0aea71db4326",
   "metadata": {
    "tags": []
   },
   "outputs": [],
   "source": [
    "optimal_topics = 2  # Based on the perplexity graph\n",
    "lda = LatentDirichletAllocation(n_components=optimal_topics, random_state=42)\n",
    "lda_topics = lda.fit_transform(df_tfidf_transformed)"
   ]
  },
  {
   "cell_type": "code",
   "execution_count": 20,
   "id": "6d22d585-c3c2-4e00-907e-f011475aa91f",
   "metadata": {},
   "outputs": [
    {
     "name": "stdout",
     "output_type": "stream",
     "text": [
      "Top words for each topic:\n",
      "Topic 1: coffee, location, service, get, always, drink, order, staff, friendly, time\n",
      "Topic 2: cake, product, side, reserve, frappe, display, worker, price, patio, refill\n"
     ]
    }
   ],
   "source": [
    "# to show top words per topic\n",
    "def display_topics(model, feature_names, num_top_words=10):\n",
    "    for topic_idx, topic in enumerate(model.components_):\n",
    "        top_words = [feature_names[i] for i in topic.argsort()[:-num_top_words - 1:-1]]\n",
    "        print(f\"Topic {topic_idx + 1}: {', '.join(top_words)}\")\n",
    "\n",
    "print(\"Top words for each topic:\")\n",
    "display_topics(lda, tfidf_model.get_feature_names_out())"
   ]
  },
  {
   "cell_type": "markdown",
   "id": "b2bdd722-e99f-4ad9-9f7c-f95a90b10323",
   "metadata": {},
   "source": [
    "it looks like topic one has to do with customer experience and service quality and topic two looks like it's more about the food and ambience (vibes!)."
   ]
  },
  {
   "cell_type": "code",
   "execution_count": 21,
   "id": "a2af357e-e0b6-4f8a-8ec4-2094942b9b93",
   "metadata": {
    "tags": []
   },
   "outputs": [],
   "source": [
    "# assigning topic to each of the reviews\n",
    "cr_text[\"dominant_topic\"] = lda_topics.argmax(axis=1)"
   ]
  },
  {
   "cell_type": "code",
   "execution_count": 22,
   "id": "433068ac-7517-42d3-9abc-fd03f9d086f0",
   "metadata": {
    "tags": []
   },
   "outputs": [
    {
     "data": {
      "image/png": "[encoded data removed]",
      "text/plain": [
       "<Figure size 800x500 with 1 Axes>"
      ]
     },
     "metadata": {},
     "output_type": "display_data"
    }
   ],
   "source": [
    "topic_counts = cr_text[\"dominant_topic\"].value_counts().sort_index()\n",
    "\n",
    "plt.figure(figsize=(8,5))\n",
    "plt.bar(topic_counts.index, topic_counts.values)\n",
    "plt.xlabel(\"Topic Number\")\n",
    "plt.ylabel(\"Number of Reviews\")\n",
    "plt.title(\"Topic Distribution Across Reviews\")\n",
    "plt.xticks(topic_counts.index)\n",
    "plt.show()"
   ]
  },
  {
   "cell_type": "markdown",
   "id": "956baefd-0c5a-46e8-b1b0-0425e15f4bce",
   "metadata": {},
   "source": [
    "There is an imbalance that exists amongst the number of reviews in the two topics"
   ]
  },
  {
   "cell_type": "markdown",
   "id": "abc34e4f-9d38-44d2-a6e0-db92eba496aa",
   "metadata": {},
   "source": [
    "#### Get topics for a single review function"
   ]
  },
  {
   "cell_type": "code",
   "execution_count": 23,
   "id": "9161c1d5-f6bc-4120-83fc-0ff2e8c31839",
   "metadata": {
    "tags": []
   },
   "outputs": [],
   "source": [
    "import pandas as pd\n",
    "\n",
    "def get_review_topics(review_index):\n",
    "    \"\"\"\n",
    "    Return the topic distribution for a single review.\n",
    "    review_index should match the row index in df_tfidf_transformed and cr_text.\n",
    "    \"\"\"\n",
    "    # 1) Select the row vector from df_tfidf_transformed\n",
    "    #    shape: [1, n_features]\n",
    "    review_vector = df_tfidf_transformed[review_index]\n",
    "\n",
    "    # 2) Transform via LDA to get topic distribution, shape: [1, n_topics]\n",
    "    topic_dist = lda.transform(review_vector)\n",
    "\n",
    "    # 3) Turn it into a pandas Series for readability\n",
    "    topic_series = pd.Series(topic_dist[0], index=[f\"Topic {i}\" for i in range(topic_dist.shape[1])])\n",
    "    return topic_series"
   ]
  },
  {
   "cell_type": "markdown",
   "id": "c9b89d00-4426-4fb3-b235-a44b6f7da1db",
   "metadata": {},
   "source": [
    "#### Comparing Two Reviews by Topic Similarity"
   ]
  },
  {
   "cell_type": "code",
   "execution_count": 24,
   "id": "54c9f64b-e856-4f7e-83d2-fff044a16560",
   "metadata": {
    "tags": []
   },
   "outputs": [
    {
     "name": "stdout",
     "output_type": "stream",
     "text": [
      "Topic similarity between review 10 and review 18 = 0.9998\n"
     ]
    }
   ],
   "source": [
    "from sklearn.metrics.pairwise import cosine_similarity\n",
    "\n",
    "review1 = 10  \n",
    "review2 = 18\n",
    "\n",
    "topics1 = get_review_topics(review1).values.reshape(1, -1)\n",
    "topics2 = get_review_topics(review2).values.reshape(1, -1)\n",
    "\n",
    "# Cosine similarity in terms of topic distributions\n",
    "topics_similarity = cosine_similarity(topics1, topics2)[0, 0]\n",
    "\n",
    "print(f\"Topic similarity between review {review1} and review {review2} = {topics_similarity:.4f}\")"
   ]
  },
  {
   "cell_type": "markdown",
   "id": "bf6bf019-eb7d-4edd-8901-d96961ea8c78",
   "metadata": {
    "jp-MarkdownHeadingCollapsed": true,
    "tags": []
   },
   "source": [
    "### Experimenting with NMF instead"
   ]
  },
  {
   "cell_type": "code",
   "execution_count": 29,
   "id": "5d0aceee-fff7-4363-b8aa-68a21d1121e4",
   "metadata": {
    "tags": []
   },
   "outputs": [
    {
     "name": "stderr",
     "output_type": "stream",
     "text": [
      "/opt/conda/lib/python3.10/site-packages/sklearn/decomposition/_nmf.py:1741: ConvergenceWarning: Maximum number of iterations 200 reached. Increase it to improve convergence.\n",
      "  warnings.warn(\n",
      "/opt/conda/lib/python3.10/site-packages/sklearn/decomposition/_nmf.py:1741: ConvergenceWarning: Maximum number of iterations 200 reached. Increase it to improve convergence.\n",
      "  warnings.warn(\n"
     ]
    },
    {
     "data": {
      "image/png": "[encoded data removed]",
      "text/plain": [
       "<Figure size 800x500 with 1 Axes>"
      ]
     },
     "metadata": {},
     "output_type": "display_data"
    }
   ],
   "source": [
    "import numpy as np\n",
    "import matplotlib.pyplot as plt\n",
    "from sklearn.decomposition import NMF\n",
    "\n",
    "# Range of topics to test\n",
    "topic_range = range(2, 10)  # Try topics from 2 to 10\n",
    "\n",
    "errors = []  # Store reconstruction error\n",
    "\n",
    "for num_topics in topic_range:\n",
    "    nmf_model = NMF(n_components=num_topics, random_state=42)\n",
    "    nmf_model.fit(df_tfidf_transformed)\n",
    "    errors.append(nmf_model.reconstruction_err_)  # Get error for each topic number\n",
    "\n",
    "# Plot the error curve\n",
    "plt.figure(figsize=(8,5))\n",
    "plt.plot(topic_range, errors, marker='o', linestyle='--', color='blue')\n",
    "plt.xlabel(\"Number of Topics\")\n",
    "plt.ylabel(\"Reconstruction Error\")\n",
    "plt.title(\"Choosing the Optimal Number of Topics in NMF\")\n",
    "plt.show()"
   ]
  },
  {
   "cell_type": "markdown",
   "id": "192be714-a033-4412-bd09-83ea4ff3e344",
   "metadata": {},
   "source": [
    "Choosing 4 as the optimal number of topics based on this graph"
   ]
  },
  {
   "cell_type": "code",
   "execution_count": 33,
   "id": "c7da6a4d-b8b6-4f09-a58d-264863c7470c",
   "metadata": {
    "tags": []
   },
   "outputs": [],
   "source": [
    "num_topics = 4\n",
    "nmf_model = NMF(n_components=num_topics, random_state=42)\n",
    "W = nmf_model.fit_transform(df_tfidf_transformed)  # Document-topic matrix\n",
    "H = nmf_model.components_"
   ]
  },
  {
   "cell_type": "markdown",
   "id": "71fe4a89-423a-4ded-80f7-ea71f23f3f31",
   "metadata": {},
   "source": [
    "Top words for each topic "
   ]
  },
  {
   "cell_type": "code",
   "execution_count": 34,
   "id": "c72c37cd-03fa-44e1-b4e7-beb992a6f502",
   "metadata": {
    "tags": []
   },
   "outputs": [],
   "source": [
    "def display_nmf_topics(model, feature_names, num_words=10):\n",
    "    for topic_idx, topic in enumerate(model.components_):\n",
    "        top_words = [feature_names[i] for i in topic.argsort()[:-num_words - 1:-1]]\n",
    "        print(f\"Topic {topic_idx + 1}: {', '.join(top_words)}\")"
   ]
  },
  {
   "cell_type": "code",
   "execution_count": 37,
   "id": "f4cde263-b5a4-4fc6-a1c5-c8562592bf4c",
   "metadata": {
    "tags": []
   },
   "outputs": [
    {
     "name": "stdout",
     "output_type": "stream",
     "text": [
      "Top words per topic in NMF:\n",
      "Topic 1: drink, order, time, get, wrong, every, made, go, right, got\n",
      "Topic 2: friendly, staff, great, always, location, nice, love, service, seating, work\n",
      "Topic 3: coffee, like, iced, good, hot, tea, place, people, ordered, got\n",
      "Topic 4: drive, line, wait, long, get, ever, slow, people, inside, service\n"
     ]
    }
   ],
   "source": []
  },
  {
   "cell_type": "markdown",
   "id": "85dc66f4-f4f5-4009-831a-c71cdae5a1bf",
   "metadata": {},
   "source": [
    "Topic 1\tis related to Order Issues & Mistakes\t\n",
    "Topic 2\tis related to Positive Experiences & Atmosphere\t\n",
    "Topic 3\tis related to Drink Preferences (Coffee, Tea, Iced vs. Hot)\n",
    "Topic 4\tis realted to Drive-Thru & Waiting Time Complaints"
   ]
  },
  {
   "cell_type": "markdown",
   "id": "a5190ef2-efa9-48f0-b1dd-5d3271494ceb",
   "metadata": {},
   "source": [
    "Assign the dominant topic to each review"
   ]
  },
  {
   "cell_type": "code",
   "execution_count": 35,
   "id": "34e1281d-7a06-4c6f-81cb-ee7678bb0eb5",
   "metadata": {
    "tags": []
   },
   "outputs": [],
   "source": [
    "cr_text[\"dominant_topic\"] = W.argmax(axis=1)"
   ]
  },
  {
   "cell_type": "markdown",
   "id": "75a28324-a657-489b-b341-5b8a90814614",
   "metadata": {},
   "source": [
    "Topic distribution"
   ]
  },
  {
   "cell_type": "code",
   "execution_count": 36,
   "id": "31f9c47e-d3c8-46b6-b4c9-07072134df1f",
   "metadata": {
    "tags": []
   },
   "outputs": [
    {
     "data": {
      "image/png": "[encoded data removed]",
      "text/plain": [
       "<Figure size 800x500 with 1 Axes>"
      ]
     },
     "metadata": {},
     "output_type": "display_data"
    }
   ],
   "source": [
    "topic_counts = cr_text[\"dominant_topic\"].value_counts().sort_index()\n",
    "\n",
    "import matplotlib.pyplot as plt\n",
    "\n",
    "plt.figure(figsize=(8,5))\n",
    "plt.bar(topic_counts.index, topic_counts.values, color='skyblue')\n",
    "plt.xlabel(\"Topic Number\")\n",
    "plt.ylabel(\"Number of Reviews\")\n",
    "plt.title(\"Topic Distribution Across Reviews\")\n",
    "plt.xticks(topic_counts.index)\n",
    "plt.show()"
   ]
  },
  {
   "cell_type": "code",
   "execution_count": 40,
   "id": "0c9249bf-5ce5-4c77-bb40-a2e5fd51da9c",
   "metadata": {
    "tags": []
   },
   "outputs": [
    {
     "name": "stdout",
     "output_type": "stream",
     "text": [
      "Topic 0    0.000000\n",
      "Topic 1    0.041183\n",
      "Topic 2    0.003021\n",
      "Topic 3    0.133190\n",
      "dtype: float64\n"
     ]
    }
   ],
   "source": [
    "import pandas as pd\n",
    "\n",
    "def get_review_topics_nmf(review_index):\n",
    "    \"\"\"\n",
    "    Returns the topic distribution for a single review using NMF.\n",
    "    'review_index' should match the row index in df_tfidf_transformed and cr_text.\n",
    "    \"\"\"\n",
    "    # 1) Select the row from W (document-topic matrix)\n",
    "    topic_dist = W[review_index]  # Shape: (n_topics, )\n",
    "\n",
    "    # 2) Convert to a pandas Series for readability\n",
    "    topic_series = pd.Series(\n",
    "        topic_dist,\n",
    "        index=[f\"Topic {i}\" for i in range(topic_dist.shape[0])]\n",
    "    )\n",
    "    return topic_series\n",
    "\n",
    "# Example usage:\n",
    "review_index = 10  # Choose a valid review index\n",
    "print(get_review_topics_nmf(review_index))\n"
   ]
  },
  {
   "cell_type": "code",
   "execution_count": 42,
   "id": "bed7a313-f16f-4278-bbf2-037e3042e273",
   "metadata": {
    "tags": []
   },
   "outputs": [
    {
     "name": "stdout",
     "output_type": "stream",
     "text": [
      "Topic similarity between review 10 and review 24 = 0.6527\n"
     ]
    }
   ],
   "source": [
    "from sklearn.metrics.pairwise import cosine_similarity\n",
    "\n",
    "review1 = 10  # Choose valid row indices from cr_text\n",
    "review2 = 24\n",
    "\n",
    "# 1. Get topic distributions for both reviews\n",
    "topics1 = get_review_topics_nmf(review1).values.reshape(1, -1)\n",
    "topics2 = get_review_topics_nmf(review2).values.reshape(1, -1)\n",
    "\n",
    "# 2. Compute cosine similarity between the two distributions\n",
    "topics_similarity = cosine_similarity(topics1, topics2)[0, 0]\n",
    "\n",
    "print(f\"Topic similarity between review {review1} and review {review2} = {topics_similarity:.4f}\")"
   ]
  }
 ],
 "metadata": {
  "environment": {
   "kernel": "conda-base-py",
   "name": "workbench-notebooks.m127",
   "type": "gcloud",
   "uri": "us-docker.pkg.dev/deeplearning-platform-release/gcr.io/workbench-notebooks:m127"
  },
  "kernelspec": {
   "display_name": "Python 3 (ipykernel) (Local)",
   "language": "python",
   "name": "conda-base-py"
  },
  "language_info": {
   "codemirror_mode": {
    "name": "ipython",
    "version": 3
   },
   "file_extension": ".py",
   "mimetype": "text/x-python",
   "name": "python",
   "nbconvert_exporter": "python",
   "pygments_lexer": "ipython3",
   "version": "3.10.16"
  }
 },
 "nbformat": 4,
 "nbformat_minor": 5
}
