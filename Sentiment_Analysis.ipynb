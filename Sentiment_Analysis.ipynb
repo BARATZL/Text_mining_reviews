{
 "cells": [
  {
   "cell_type": "markdown",
   "id": "bcd7de82-ffb4-4a96-bf0f-8cdc6bf02aa5",
   "metadata": {
    "jp-MarkdownHeadingCollapsed": true,
    "tags": []
   },
   "source": [
    "## Data processing"
   ]
  },
  {
   "cell_type": "code",
   "execution_count": 41,
   "id": "67bd1b3d-90c8-48f0-86dd-12ee4dea77af",
   "metadata": {
    "tags": []
   },
   "outputs": [],
   "source": [
    "import pandas as pd\n",
    "cafe_reviews = pd.read_parquet(\"cafe_reviews.parquet\")"
   ]
  },
  {
   "cell_type": "code",
   "execution_count": 42,
   "id": "fa8cec14-b19b-49aa-ab9c-20e1c6dc959c",
   "metadata": {
    "tags": []
   },
   "outputs": [
    {
     "name": "stderr",
     "output_type": "stream",
     "text": [
      "[nltk_data] Downloading package stopwords to\n",
      "[nltk_data]     /home/jupyter/nltk_data...\n",
      "[nltk_data]   Package stopwords is already up-to-date!\n",
      "[nltk_data] Downloading package punkt to /home/jupyter/nltk_data...\n",
      "[nltk_data]   Package punkt is already up-to-date!\n",
      "[nltk_data] Downloading package punkt_tab to\n",
      "[nltk_data]     /home/jupyter/nltk_data...\n",
      "[nltk_data]   Package punkt_tab is already up-to-date!\n",
      "[nltk_data] Downloading package words to /home/jupyter/nltk_data...\n",
      "[nltk_data]   Package words is already up-to-date!\n"
     ]
    }
   ],
   "source": [
    "import nltk\n",
    "from nltk.corpus import stopwords\n",
    "from nltk.tokenize import word_tokenize\n",
    "from nltk.tokenize.casual import TweetTokenizer\n",
    "import string\n",
    "from sklearn.feature_extraction.text import CountVectorizer\n",
    "from nltk.tokenize import word_tokenize, sent_tokenize, WhitespaceTokenizer, RegexpTokenizer\n",
    "from nltk.corpus import words\n",
    "from nltk.tokenize import SyllableTokenizer\n",
    "\n",
    "# download package\n",
    "nltk.download('stopwords')\n",
    "nltk.download('punkt')\n",
    "nltk.download('punkt_tab')\n",
    "nltk.download('words')\n",
    "\n",
    "# upload stopwords and string\n",
    "punctuations = set(string.punctuation)\n",
    "english_words = set(words.words())"
   ]
  },
  {
   "cell_type": "code",
   "execution_count": 43,
   "id": "6d22d585-c3c2-4e00-907e-f011475aa91f",
   "metadata": {},
   "outputs": [
    {
     "data": {
      "text/html": [
       "<div>\n",
       "<style scoped>\n",
       "    .dataframe tbody tr th:only-of-type {\n",
       "        vertical-align: middle;\n",
       "    }\n",
       "\n",
       "    .dataframe tbody tr th {\n",
       "        vertical-align: top;\n",
       "    }\n",
       "\n",
       "    .dataframe thead th {\n",
       "        text-align: right;\n",
       "    }\n",
       "</style>\n",
       "<table border=\"1\" class=\"dataframe\">\n",
       "  <thead>\n",
       "    <tr style=\"text-align: right;\">\n",
       "      <th></th>\n",
       "      <th>review_id</th>\n",
       "      <th>business_id</th>\n",
       "      <th>user_id</th>\n",
       "      <th>stars</th>\n",
       "      <th>text</th>\n",
       "      <th>date</th>\n",
       "      <th>name</th>\n",
       "      <th>review_count</th>\n",
       "      <th>yelping_since</th>\n",
       "      <th>cafe_review</th>\n",
       "    </tr>\n",
       "  </thead>\n",
       "  <tbody>\n",
       "    <tr>\n",
       "      <th>26696</th>\n",
       "      <td>uLsgFiVJJ25kL210IZ_ubA</td>\n",
       "      <td>oT5Bidkfa7cGOp1806ryXQ</td>\n",
       "      <td>Ne3DSl7bmpvjqEeXD2BQ9A</td>\n",
       "      <td>4</td>\n",
       "      <td>Good Starbucks location and easy to get in and...</td>\n",
       "      <td>2016-07-15 21:29:03</td>\n",
       "      <td>Keshia</td>\n",
       "      <td>139.0</td>\n",
       "      <td>2011-10-22 10:54:54</td>\n",
       "      <td>True</td>\n",
       "    </tr>\n",
       "    <tr>\n",
       "      <th>34514</th>\n",
       "      <td>JHlC1TR7n-pDaNkjQb7jdA</td>\n",
       "      <td>oT5Bidkfa7cGOp1806ryXQ</td>\n",
       "      <td>cLz_xjT_-5EcOShmBB-4gQ</td>\n",
       "      <td>5</td>\n",
       "      <td>Wonderful staff here really make the visit eve...</td>\n",
       "      <td>2017-08-09 11:38:02</td>\n",
       "      <td>Jason</td>\n",
       "      <td>20.0</td>\n",
       "      <td>2013-10-30 19:46:03</td>\n",
       "      <td>True</td>\n",
       "    </tr>\n",
       "    <tr>\n",
       "      <th>40368</th>\n",
       "      <td>qK416ZpKOiPobkvbcwxY6w</td>\n",
       "      <td>oT5Bidkfa7cGOp1806ryXQ</td>\n",
       "      <td>s31DfJUYKTWyPtXmTFx0NQ</td>\n",
       "      <td>1</td>\n",
       "      <td>Ordered 2 coffees and a muffin. Got one coffee...</td>\n",
       "      <td>2017-11-19 16:20:16</td>\n",
       "      <td>Robin</td>\n",
       "      <td>32.0</td>\n",
       "      <td>2016-06-10 02:52:08</td>\n",
       "      <td>True</td>\n",
       "    </tr>\n",
       "    <tr>\n",
       "      <th>72933</th>\n",
       "      <td>Ju52qzbADpR7EsS6xLUclg</td>\n",
       "      <td>KPnJ3hdHljTWbsq_mx5oZQ</td>\n",
       "      <td>pNgfY8VRnXRqJswwU99gnQ</td>\n",
       "      <td>2</td>\n",
       "      <td>Thanks to extremely poor customer service that...</td>\n",
       "      <td>2012-10-15 17:20:19</td>\n",
       "      <td>Kris</td>\n",
       "      <td>233.0</td>\n",
       "      <td>2012-09-23 03:41:57</td>\n",
       "      <td>True</td>\n",
       "    </tr>\n",
       "    <tr>\n",
       "      <th>79525</th>\n",
       "      <td>yqqhQ6ex6ZdbotwnYaDadg</td>\n",
       "      <td>oT5Bidkfa7cGOp1806ryXQ</td>\n",
       "      <td>q1XsSG9XtLoIKBFOgfej_w</td>\n",
       "      <td>5</td>\n",
       "      <td>This is probably my favorite Starbucks. It's r...</td>\n",
       "      <td>2017-03-31 14:23:56</td>\n",
       "      <td>Leah</td>\n",
       "      <td>177.0</td>\n",
       "      <td>2013-06-26 15:57:38</td>\n",
       "      <td>True</td>\n",
       "    </tr>\n",
       "  </tbody>\n",
       "</table>\n",
       "</div>"
      ],
      "text/plain": [
       "                    review_id             business_id                 user_id  \\\n",
       "26696  uLsgFiVJJ25kL210IZ_ubA  oT5Bidkfa7cGOp1806ryXQ  Ne3DSl7bmpvjqEeXD2BQ9A   \n",
       "34514  JHlC1TR7n-pDaNkjQb7jdA  oT5Bidkfa7cGOp1806ryXQ  cLz_xjT_-5EcOShmBB-4gQ   \n",
       "40368  qK416ZpKOiPobkvbcwxY6w  oT5Bidkfa7cGOp1806ryXQ  s31DfJUYKTWyPtXmTFx0NQ   \n",
       "72933  Ju52qzbADpR7EsS6xLUclg  KPnJ3hdHljTWbsq_mx5oZQ  pNgfY8VRnXRqJswwU99gnQ   \n",
       "79525  yqqhQ6ex6ZdbotwnYaDadg  oT5Bidkfa7cGOp1806ryXQ  q1XsSG9XtLoIKBFOgfej_w   \n",
       "\n",
       "       stars                                               text  \\\n",
       "26696      4  Good Starbucks location and easy to get in and...   \n",
       "34514      5  Wonderful staff here really make the visit eve...   \n",
       "40368      1  Ordered 2 coffees and a muffin. Got one coffee...   \n",
       "72933      2  Thanks to extremely poor customer service that...   \n",
       "79525      5  This is probably my favorite Starbucks. It's r...   \n",
       "\n",
       "                     date    name  review_count        yelping_since  \\\n",
       "26696 2016-07-15 21:29:03  Keshia         139.0  2011-10-22 10:54:54   \n",
       "34514 2017-08-09 11:38:02   Jason          20.0  2013-10-30 19:46:03   \n",
       "40368 2017-11-19 16:20:16   Robin          32.0  2016-06-10 02:52:08   \n",
       "72933 2012-10-15 17:20:19    Kris         233.0  2012-09-23 03:41:57   \n",
       "79525 2017-03-31 14:23:56    Leah         177.0  2013-06-26 15:57:38   \n",
       "\n",
       "       cafe_review  \n",
       "26696         True  \n",
       "34514         True  \n",
       "40368         True  \n",
       "72933         True  \n",
       "79525         True  "
      ]
     },
     "execution_count": 43,
     "metadata": {},
     "output_type": "execute_result"
    }
   ],
   "source": [
    "cafe_reviews.head()"
   ]
  },
  {
   "cell_type": "code",
   "execution_count": 44,
   "id": "d4f2566c-290b-490c-88c4-cc60e1544030",
   "metadata": {
    "tags": []
   },
   "outputs": [
    {
     "data": {
      "text/html": [
       "<div>\n",
       "<style scoped>\n",
       "    .dataframe tbody tr th:only-of-type {\n",
       "        vertical-align: middle;\n",
       "    }\n",
       "\n",
       "    .dataframe tbody tr th {\n",
       "        vertical-align: top;\n",
       "    }\n",
       "\n",
       "    .dataframe thead th {\n",
       "        text-align: right;\n",
       "    }\n",
       "</style>\n",
       "<table border=\"1\" class=\"dataframe\">\n",
       "  <thead>\n",
       "    <tr style=\"text-align: right;\">\n",
       "      <th></th>\n",
       "      <th>stars</th>\n",
       "      <th>text</th>\n",
       "    </tr>\n",
       "  </thead>\n",
       "  <tbody>\n",
       "    <tr>\n",
       "      <th>26696</th>\n",
       "      <td>4</td>\n",
       "      <td>Good Starbucks location and easy to get in and...</td>\n",
       "    </tr>\n",
       "    <tr>\n",
       "      <th>34514</th>\n",
       "      <td>5</td>\n",
       "      <td>Wonderful staff here really make the visit eve...</td>\n",
       "    </tr>\n",
       "    <tr>\n",
       "      <th>40368</th>\n",
       "      <td>1</td>\n",
       "      <td>Ordered 2 coffees and a muffin. Got one coffee...</td>\n",
       "    </tr>\n",
       "    <tr>\n",
       "      <th>72933</th>\n",
       "      <td>2</td>\n",
       "      <td>Thanks to extremely poor customer service that...</td>\n",
       "    </tr>\n",
       "    <tr>\n",
       "      <th>79525</th>\n",
       "      <td>5</td>\n",
       "      <td>This is probably my favorite Starbucks. It's r...</td>\n",
       "    </tr>\n",
       "  </tbody>\n",
       "</table>\n",
       "</div>"
      ],
      "text/plain": [
       "       stars                                               text\n",
       "26696      4  Good Starbucks location and easy to get in and...\n",
       "34514      5  Wonderful staff here really make the visit eve...\n",
       "40368      1  Ordered 2 coffees and a muffin. Got one coffee...\n",
       "72933      2  Thanks to extremely poor customer service that...\n",
       "79525      5  This is probably my favorite Starbucks. It's r..."
      ]
     },
     "execution_count": 44,
     "metadata": {},
     "output_type": "execute_result"
    }
   ],
   "source": [
    "cafe_reviews.drop(columns=[\"review_id\", \"business_id\", \"user_id\", \"date\", \"name\", \"review_count\", \"yelping_since\", \"cafe_review\"], inplace=True)\n",
    "cafe_reviews.head()"
   ]
  },
  {
   "cell_type": "code",
   "execution_count": 45,
   "id": "a73d4f69-4f06-433e-a90d-12d52b7afe26",
   "metadata": {
    "tags": []
   },
   "outputs": [],
   "source": [
    "from sklearn.model_selection import train_test_split\n",
    "X_train, X_test, y_train, y_test = train_test_split(cafe_reviews[\"text\"], cafe_reviews[\"stars\"], test_size=0.2, random_state=42)"
   ]
  },
  {
   "cell_type": "markdown",
   "id": "2dec4348-587e-4800-885a-07b57dec022c",
   "metadata": {
    "tags": []
   },
   "source": [
    "## Text Cleaner"
   ]
  },
  {
   "cell_type": "code",
   "execution_count": 46,
   "id": "31890fc2-fcf1-4fd0-90e9-3a189307ee4f",
   "metadata": {
    "tags": []
   },
   "outputs": [
    {
     "name": "stderr",
     "output_type": "stream",
     "text": [
      "[nltk_data] Downloading package punkt to /home/jupyter/nltk_data...\n",
      "[nltk_data]   Package punkt is already up-to-date!\n",
      "[nltk_data] Downloading package punkt_tab to\n",
      "[nltk_data]     /home/jupyter/nltk_data...\n",
      "[nltk_data]   Package punkt_tab is already up-to-date!\n",
      "[nltk_data] Downloading package stopwords to\n",
      "[nltk_data]     /home/jupyter/nltk_data...\n",
      "[nltk_data]   Package stopwords is already up-to-date!\n"
     ]
    }
   ],
   "source": [
    "import nltk\n",
    "nltk.download('punkt')\n",
    "nltk.download('punkt_tab')\n",
    "nltk.download('stopwords')\n",
    "from nltk.tokenize import word_tokenize\n",
    "from nltk.tokenize import word_tokenize, TreebankWordDetokenizer\n",
    "from nltk.corpus import stopwords\n",
    "stop_words = set(stopwords.words('english'))"
   ]
  },
  {
   "cell_type": "code",
   "execution_count": 47,
   "id": "564ef72d-d3c3-43f0-b909-cc75e95118b6",
   "metadata": {
    "tags": []
   },
   "outputs": [],
   "source": [
    "import string\n",
    "from nltk.stem import PorterStemmer\n",
    "\n",
    "ps = PorterStemmer()\n",
    "\n",
    "def cleanup_text(sentence):\n",
    "  # First, word tokenize.\n",
    "  tokenized_sms_messages = word_tokenize(sentence)\n",
    "\n",
    "  # Lower case\n",
    "  tokenized_sms_messages = [word.lower() for word in tokenized_sms_messages]\n",
    "\n",
    "  # Remove punctuation\n",
    "  tokenized_sms_messages = [word for word in tokenized_sms_messages if word not in string.punctuation]\n",
    "\n",
    "  # stem\n",
    "  # tokenized_sms_messages = [ps.stem(word) for word in tokenized_sms_messages]\n",
    "    \n",
    "  # Remove stop words\n",
    "  tokenized_sms_messages = [word for word in tokenized_sms_messages if word not in stop_words]\n",
    "\n",
    "  # put it back together\n",
    "  tokenized_sms_messages = TreebankWordDetokenizer().detokenize(tokenized_sms_messages)\n",
    "\n",
    "  return tokenized_sms_messages"
   ]
  },
  {
   "cell_type": "markdown",
   "id": "e423e1d4-68a3-4aa4-8dfe-66c7d9758dc1",
   "metadata": {
    "tags": []
   },
   "source": [
    "## NLP Model：TextBlob to directly tell the sentiment"
   ]
  },
  {
   "cell_type": "code",
   "execution_count": 48,
   "id": "881fdba7-f9a7-4429-b011-d982439bf05b",
   "metadata": {
    "tags": []
   },
   "outputs": [],
   "source": [
    "cafe_reviews[\"cleaned_text\"] = cafe_reviews[\"text\"].apply(cleanup_text)"
   ]
  },
  {
   "cell_type": "code",
   "execution_count": 49,
   "id": "6a9090a5-2f66-4ae2-b6d7-229e87b19986",
   "metadata": {
    "tags": []
   },
   "outputs": [
    {
     "data": {
      "text/html": [
       "<div>\n",
       "<style scoped>\n",
       "    .dataframe tbody tr th:only-of-type {\n",
       "        vertical-align: middle;\n",
       "    }\n",
       "\n",
       "    .dataframe tbody tr th {\n",
       "        vertical-align: top;\n",
       "    }\n",
       "\n",
       "    .dataframe thead th {\n",
       "        text-align: right;\n",
       "    }\n",
       "</style>\n",
       "<table border=\"1\" class=\"dataframe\">\n",
       "  <thead>\n",
       "    <tr style=\"text-align: right;\">\n",
       "      <th></th>\n",
       "      <th>stars</th>\n",
       "      <th>text</th>\n",
       "      <th>cleaned_text</th>\n",
       "    </tr>\n",
       "  </thead>\n",
       "  <tbody>\n",
       "    <tr>\n",
       "      <th>26696</th>\n",
       "      <td>4</td>\n",
       "      <td>Good Starbucks location and easy to get in and...</td>\n",
       "      <td>good starbucks location easy get location larg...</td>\n",
       "    </tr>\n",
       "    <tr>\n",
       "      <th>34514</th>\n",
       "      <td>5</td>\n",
       "      <td>Wonderful staff here really make the visit eve...</td>\n",
       "      <td>wonderful staff really make visit every time c...</td>\n",
       "    </tr>\n",
       "    <tr>\n",
       "      <th>40368</th>\n",
       "      <td>1</td>\n",
       "      <td>Ordered 2 coffees and a muffin. Got one coffee...</td>\n",
       "      <td>ordered 2 coffees muffin got one coffee muffin...</td>\n",
       "    </tr>\n",
       "    <tr>\n",
       "      <th>72933</th>\n",
       "      <td>2</td>\n",
       "      <td>Thanks to extremely poor customer service that...</td>\n",
       "      <td>thanks extremely poor customer service driven ...</td>\n",
       "    </tr>\n",
       "    <tr>\n",
       "      <th>79525</th>\n",
       "      <td>5</td>\n",
       "      <td>This is probably my favorite Starbucks. It's r...</td>\n",
       "      <td>probably favorite starbucks's really chill loc...</td>\n",
       "    </tr>\n",
       "  </tbody>\n",
       "</table>\n",
       "</div>"
      ],
      "text/plain": [
       "       stars                                               text  \\\n",
       "26696      4  Good Starbucks location and easy to get in and...   \n",
       "34514      5  Wonderful staff here really make the visit eve...   \n",
       "40368      1  Ordered 2 coffees and a muffin. Got one coffee...   \n",
       "72933      2  Thanks to extremely poor customer service that...   \n",
       "79525      5  This is probably my favorite Starbucks. It's r...   \n",
       "\n",
       "                                            cleaned_text  \n",
       "26696  good starbucks location easy get location larg...  \n",
       "34514  wonderful staff really make visit every time c...  \n",
       "40368  ordered 2 coffees muffin got one coffee muffin...  \n",
       "72933  thanks extremely poor customer service driven ...  \n",
       "79525  probably favorite starbucks's really chill loc...  "
      ]
     },
     "execution_count": 49,
     "metadata": {},
     "output_type": "execute_result"
    }
   ],
   "source": [
    "cafe_reviews.head()"
   ]
  },
  {
   "cell_type": "markdown",
   "id": "f3adf32c-3783-4fed-a627-41dcb10d393d",
   "metadata": {},
   "source": [
    "### Apply TextBlob Sentiment Analysis"
   ]
  },
  {
   "cell_type": "code",
   "execution_count": 50,
   "id": "47c0ce80-7d73-4add-9c0d-19343de0b203",
   "metadata": {
    "tags": []
   },
   "outputs": [
    {
     "name": "stdout",
     "output_type": "stream",
     "text": [
      "Requirement already satisfied: textblob in /opt/conda/lib/python3.10/site-packages (0.19.0)\n",
      "Requirement already satisfied: nltk>=3.9 in /opt/conda/lib/python3.10/site-packages (from textblob) (3.9.1)\n",
      "Requirement already satisfied: click in /opt/conda/lib/python3.10/site-packages (from nltk>=3.9->textblob) (8.1.8)\n",
      "Requirement already satisfied: joblib in /opt/conda/lib/python3.10/site-packages (from nltk>=3.9->textblob) (1.4.2)\n",
      "Requirement already satisfied: regex>=2021.8.3 in /opt/conda/lib/python3.10/site-packages (from nltk>=3.9->textblob) (2024.11.6)\n",
      "Requirement already satisfied: tqdm in /opt/conda/lib/python3.10/site-packages (from nltk>=3.9->textblob) (4.67.1)\n"
     ]
    }
   ],
   "source": [
    "!pip install textblob"
   ]
  },
  {
   "cell_type": "code",
   "execution_count": 51,
   "id": "c78230d7-7df6-4084-bf44-bbb8b118dc30",
   "metadata": {
    "tags": []
   },
   "outputs": [],
   "source": [
    "from textblob import TextBlob\n",
    "\n",
    "cafe_reviews[\"sentiment\"] = cafe_reviews[\"cleaned_text\"].apply(lambda review: TextBlob(review).sentiment.polarity)\n",
    "cafe_reviews['Sentiment_Category'] = cafe_reviews[\"sentiment\"].apply(\n",
    "    lambda polarity: 'Positive' if polarity > 0.1 else ('Negative' if polarity < 0.05 else 'Neutral'))"
   ]
  },
  {
   "cell_type": "code",
   "execution_count": 52,
   "id": "fe7335de-f38c-4e5d-b333-152a5240d6e0",
   "metadata": {
    "tags": []
   },
   "outputs": [
    {
     "data": {
      "text/html": [
       "<div>\n",
       "<style scoped>\n",
       "    .dataframe tbody tr th:only-of-type {\n",
       "        vertical-align: middle;\n",
       "    }\n",
       "\n",
       "    .dataframe tbody tr th {\n",
       "        vertical-align: top;\n",
       "    }\n",
       "\n",
       "    .dataframe thead th {\n",
       "        text-align: right;\n",
       "    }\n",
       "</style>\n",
       "<table border=\"1\" class=\"dataframe\">\n",
       "  <thead>\n",
       "    <tr style=\"text-align: right;\">\n",
       "      <th></th>\n",
       "      <th>stars</th>\n",
       "      <th>text</th>\n",
       "      <th>cleaned_text</th>\n",
       "      <th>sentiment</th>\n",
       "      <th>Sentiment_Category</th>\n",
       "    </tr>\n",
       "  </thead>\n",
       "  <tbody>\n",
       "    <tr>\n",
       "      <th>26696</th>\n",
       "      <td>4</td>\n",
       "      <td>Good Starbucks location and easy to get in and...</td>\n",
       "      <td>good starbucks location easy get location larg...</td>\n",
       "      <td>0.441667</td>\n",
       "      <td>Positive</td>\n",
       "    </tr>\n",
       "    <tr>\n",
       "      <th>34514</th>\n",
       "      <td>5</td>\n",
       "      <td>Wonderful staff here really make the visit eve...</td>\n",
       "      <td>wonderful staff really make visit every time c...</td>\n",
       "      <td>0.510185</td>\n",
       "      <td>Positive</td>\n",
       "    </tr>\n",
       "    <tr>\n",
       "      <th>40368</th>\n",
       "      <td>1</td>\n",
       "      <td>Ordered 2 coffees and a muffin. Got one coffee...</td>\n",
       "      <td>ordered 2 coffees muffin got one coffee muffin...</td>\n",
       "      <td>-0.044444</td>\n",
       "      <td>Negative</td>\n",
       "    </tr>\n",
       "    <tr>\n",
       "      <th>72933</th>\n",
       "      <td>2</td>\n",
       "      <td>Thanks to extremely poor customer service that...</td>\n",
       "      <td>thanks extremely poor customer service driven ...</td>\n",
       "      <td>0.082500</td>\n",
       "      <td>Neutral</td>\n",
       "    </tr>\n",
       "    <tr>\n",
       "      <th>79525</th>\n",
       "      <td>5</td>\n",
       "      <td>This is probably my favorite Starbucks. It's r...</td>\n",
       "      <td>probably favorite starbucks's really chill loc...</td>\n",
       "      <td>0.428571</td>\n",
       "      <td>Positive</td>\n",
       "    </tr>\n",
       "  </tbody>\n",
       "</table>\n",
       "</div>"
      ],
      "text/plain": [
       "       stars                                               text  \\\n",
       "26696      4  Good Starbucks location and easy to get in and...   \n",
       "34514      5  Wonderful staff here really make the visit eve...   \n",
       "40368      1  Ordered 2 coffees and a muffin. Got one coffee...   \n",
       "72933      2  Thanks to extremely poor customer service that...   \n",
       "79525      5  This is probably my favorite Starbucks. It's r...   \n",
       "\n",
       "                                            cleaned_text  sentiment  \\\n",
       "26696  good starbucks location easy get location larg...   0.441667   \n",
       "34514  wonderful staff really make visit every time c...   0.510185   \n",
       "40368  ordered 2 coffees muffin got one coffee muffin...  -0.044444   \n",
       "72933  thanks extremely poor customer service driven ...   0.082500   \n",
       "79525  probably favorite starbucks's really chill loc...   0.428571   \n",
       "\n",
       "      Sentiment_Category  \n",
       "26696           Positive  \n",
       "34514           Positive  \n",
       "40368           Negative  \n",
       "72933            Neutral  \n",
       "79525           Positive  "
      ]
     },
     "execution_count": 52,
     "metadata": {},
     "output_type": "execute_result"
    }
   ],
   "source": [
    "cafe_reviews.head()"
   ]
  },
  {
   "cell_type": "markdown",
   "id": "ede3a263-6d3a-4fea-ad3c-5001089505a6",
   "metadata": {
    "tags": []
   },
   "source": [
    "## Training KNN Sentiment Analysis Model to help future analysis"
   ]
  },
  {
   "cell_type": "markdown",
   "id": "459ea5a7-3b75-4e65-b5d6-0d0fb62932ec",
   "metadata": {
    "tags": []
   },
   "source": [
    "### Clean up the contradictory comments （ low stars but positive /. high stars but negative)"
   ]
  },
  {
   "cell_type": "code",
   "execution_count": 53,
   "id": "7f66b5d8-c227-49c1-a3eb-ac44b4751325",
   "metadata": {
    "tags": []
   },
   "outputs": [
    {
     "data": {
      "text/html": [
       "<div>\n",
       "<style scoped>\n",
       "    .dataframe tbody tr th:only-of-type {\n",
       "        vertical-align: middle;\n",
       "    }\n",
       "\n",
       "    .dataframe tbody tr th {\n",
       "        vertical-align: top;\n",
       "    }\n",
       "\n",
       "    .dataframe thead th {\n",
       "        text-align: right;\n",
       "    }\n",
       "</style>\n",
       "<table border=\"1\" class=\"dataframe\">\n",
       "  <thead>\n",
       "    <tr style=\"text-align: right;\">\n",
       "      <th></th>\n",
       "      <th>stars</th>\n",
       "      <th>cleaned_text</th>\n",
       "      <th>sentiment</th>\n",
       "      <th>Sentiment_Category</th>\n",
       "    </tr>\n",
       "  </thead>\n",
       "  <tbody>\n",
       "    <tr>\n",
       "      <th>26696</th>\n",
       "      <td>4</td>\n",
       "      <td>good starbucks location easy get location larg...</td>\n",
       "      <td>0.441667</td>\n",
       "      <td>Positive</td>\n",
       "    </tr>\n",
       "    <tr>\n",
       "      <th>34514</th>\n",
       "      <td>5</td>\n",
       "      <td>wonderful staff really make visit every time c...</td>\n",
       "      <td>0.510185</td>\n",
       "      <td>Positive</td>\n",
       "    </tr>\n",
       "    <tr>\n",
       "      <th>40368</th>\n",
       "      <td>1</td>\n",
       "      <td>ordered 2 coffees muffin got one coffee muffin...</td>\n",
       "      <td>-0.044444</td>\n",
       "      <td>Negative</td>\n",
       "    </tr>\n",
       "    <tr>\n",
       "      <th>72933</th>\n",
       "      <td>2</td>\n",
       "      <td>thanks extremely poor customer service driven ...</td>\n",
       "      <td>0.082500</td>\n",
       "      <td>Neutral</td>\n",
       "    </tr>\n",
       "    <tr>\n",
       "      <th>79525</th>\n",
       "      <td>5</td>\n",
       "      <td>probably favorite starbucks's really chill loc...</td>\n",
       "      <td>0.428571</td>\n",
       "      <td>Positive</td>\n",
       "    </tr>\n",
       "  </tbody>\n",
       "</table>\n",
       "</div>"
      ],
      "text/plain": [
       "       stars                                       cleaned_text  sentiment  \\\n",
       "26696      4  good starbucks location easy get location larg...   0.441667   \n",
       "34514      5  wonderful staff really make visit every time c...   0.510185   \n",
       "40368      1  ordered 2 coffees muffin got one coffee muffin...  -0.044444   \n",
       "72933      2  thanks extremely poor customer service driven ...   0.082500   \n",
       "79525      5  probably favorite starbucks's really chill loc...   0.428571   \n",
       "\n",
       "      Sentiment_Category  \n",
       "26696           Positive  \n",
       "34514           Positive  \n",
       "40368           Negative  \n",
       "72933            Neutral  \n",
       "79525           Positive  "
      ]
     },
     "execution_count": 53,
     "metadata": {},
     "output_type": "execute_result"
    }
   ],
   "source": [
    "df_valid_review = cafe_reviews.copy()\n",
    "df_valid_review.drop(columns=[\"text\"], inplace=True)\n",
    "df_valid_review.head()"
   ]
  },
  {
   "cell_type": "code",
   "execution_count": 54,
   "id": "1a3efd0b-9fc5-4bc3-adaf-dc7e857fd823",
   "metadata": {
    "tags": []
   },
   "outputs": [
    {
     "data": {
      "text/html": [
       "<div>\n",
       "<style scoped>\n",
       "    .dataframe tbody tr th:only-of-type {\n",
       "        vertical-align: middle;\n",
       "    }\n",
       "\n",
       "    .dataframe tbody tr th {\n",
       "        vertical-align: top;\n",
       "    }\n",
       "\n",
       "    .dataframe thead th {\n",
       "        text-align: right;\n",
       "    }\n",
       "</style>\n",
       "<table border=\"1\" class=\"dataframe\">\n",
       "  <thead>\n",
       "    <tr style=\"text-align: right;\">\n",
       "      <th></th>\n",
       "      <th>stars</th>\n",
       "      <th>cleaned_text</th>\n",
       "      <th>sentiment</th>\n",
       "      <th>Sentiment_Category</th>\n",
       "    </tr>\n",
       "  </thead>\n",
       "  <tbody>\n",
       "    <tr>\n",
       "      <th>26696</th>\n",
       "      <td>4</td>\n",
       "      <td>good starbucks location easy get location larg...</td>\n",
       "      <td>0.441667</td>\n",
       "      <td>Positive</td>\n",
       "    </tr>\n",
       "    <tr>\n",
       "      <th>34514</th>\n",
       "      <td>5</td>\n",
       "      <td>wonderful staff really make visit every time c...</td>\n",
       "      <td>0.510185</td>\n",
       "      <td>Positive</td>\n",
       "    </tr>\n",
       "    <tr>\n",
       "      <th>40368</th>\n",
       "      <td>1</td>\n",
       "      <td>ordered 2 coffees muffin got one coffee muffin...</td>\n",
       "      <td>-0.044444</td>\n",
       "      <td>Negative</td>\n",
       "    </tr>\n",
       "    <tr>\n",
       "      <th>72933</th>\n",
       "      <td>2</td>\n",
       "      <td>thanks extremely poor customer service driven ...</td>\n",
       "      <td>0.082500</td>\n",
       "      <td>Neutral</td>\n",
       "    </tr>\n",
       "    <tr>\n",
       "      <th>79525</th>\n",
       "      <td>5</td>\n",
       "      <td>probably favorite starbucks's really chill loc...</td>\n",
       "      <td>0.428571</td>\n",
       "      <td>Positive</td>\n",
       "    </tr>\n",
       "  </tbody>\n",
       "</table>\n",
       "</div>"
      ],
      "text/plain": [
       "       stars                                       cleaned_text  sentiment  \\\n",
       "26696      4  good starbucks location easy get location larg...   0.441667   \n",
       "34514      5  wonderful staff really make visit every time c...   0.510185   \n",
       "40368      1  ordered 2 coffees muffin got one coffee muffin...  -0.044444   \n",
       "72933      2  thanks extremely poor customer service driven ...   0.082500   \n",
       "79525      5  probably favorite starbucks's really chill loc...   0.428571   \n",
       "\n",
       "      Sentiment_Category  \n",
       "26696           Positive  \n",
       "34514           Positive  \n",
       "40368           Negative  \n",
       "72933            Neutral  \n",
       "79525           Positive  "
      ]
     },
     "execution_count": 54,
     "metadata": {},
     "output_type": "execute_result"
    }
   ],
   "source": [
    "df_valid_review[\"Sentiment_Category\"] = df_valid_review[\"Sentiment_Category\"].astype(str)\n",
    "\n",
    "df_valid_review = df_valid_review[~(\n",
    "    ((df_valid_review[\"Sentiment_Category\"] == \"Positive\") & (df_valid_review[\"stars\"] < 3)) |\n",
    "    ((df_valid_review[\"Sentiment_Category\"] == \"Negative\") & (df_valid_review[\"stars\"] > 3))\n",
    ")]\n",
    "df_valid_review.head()"
   ]
  },
  {
   "cell_type": "markdown",
   "id": "0899d09b-d8c1-4af3-82b5-4c78e48e6af2",
   "metadata": {},
   "source": [
    "### Train model"
   ]
  },
  {
   "cell_type": "code",
   "execution_count": 55,
   "id": "a84f55a8-5d1f-4109-840a-a7cbed9ba08b",
   "metadata": {
    "tags": []
   },
   "outputs": [
    {
     "data": {
      "text/html": [
       "<div>\n",
       "<style scoped>\n",
       "    .dataframe tbody tr th:only-of-type {\n",
       "        vertical-align: middle;\n",
       "    }\n",
       "\n",
       "    .dataframe tbody tr th {\n",
       "        vertical-align: top;\n",
       "    }\n",
       "\n",
       "    .dataframe thead th {\n",
       "        text-align: right;\n",
       "    }\n",
       "</style>\n",
       "<table border=\"1\" class=\"dataframe\">\n",
       "  <thead>\n",
       "    <tr style=\"text-align: right;\">\n",
       "      <th></th>\n",
       "      <th>stars</th>\n",
       "      <th>cleaned_text</th>\n",
       "      <th>sentiment</th>\n",
       "      <th>Sentiment_Category</th>\n",
       "    </tr>\n",
       "  </thead>\n",
       "  <tbody>\n",
       "    <tr>\n",
       "      <th>26696</th>\n",
       "      <td>4</td>\n",
       "      <td>good starbucks location easy get location larg...</td>\n",
       "      <td>0.441667</td>\n",
       "      <td>Positive</td>\n",
       "    </tr>\n",
       "    <tr>\n",
       "      <th>34514</th>\n",
       "      <td>5</td>\n",
       "      <td>wonderful staff really make visit every time c...</td>\n",
       "      <td>0.510185</td>\n",
       "      <td>Positive</td>\n",
       "    </tr>\n",
       "    <tr>\n",
       "      <th>40368</th>\n",
       "      <td>1</td>\n",
       "      <td>ordered 2 coffees muffin got one coffee muffin...</td>\n",
       "      <td>-0.044444</td>\n",
       "      <td>Negative</td>\n",
       "    </tr>\n",
       "    <tr>\n",
       "      <th>72933</th>\n",
       "      <td>2</td>\n",
       "      <td>thanks extremely poor customer service driven ...</td>\n",
       "      <td>0.082500</td>\n",
       "      <td>Neutral</td>\n",
       "    </tr>\n",
       "    <tr>\n",
       "      <th>79525</th>\n",
       "      <td>5</td>\n",
       "      <td>probably favorite starbucks's really chill loc...</td>\n",
       "      <td>0.428571</td>\n",
       "      <td>Positive</td>\n",
       "    </tr>\n",
       "  </tbody>\n",
       "</table>\n",
       "</div>"
      ],
      "text/plain": [
       "       stars                                       cleaned_text  sentiment  \\\n",
       "26696      4  good starbucks location easy get location larg...   0.441667   \n",
       "34514      5  wonderful staff really make visit every time c...   0.510185   \n",
       "40368      1  ordered 2 coffees muffin got one coffee muffin...  -0.044444   \n",
       "72933      2  thanks extremely poor customer service driven ...   0.082500   \n",
       "79525      5  probably favorite starbucks's really chill loc...   0.428571   \n",
       "\n",
       "      Sentiment_Category  \n",
       "26696           Positive  \n",
       "34514           Positive  \n",
       "40368           Negative  \n",
       "72933            Neutral  \n",
       "79525           Positive  "
      ]
     },
     "execution_count": 55,
     "metadata": {},
     "output_type": "execute_result"
    }
   ],
   "source": [
    "df_valid_review.head()"
   ]
  },
  {
   "cell_type": "code",
   "execution_count": 56,
   "id": "971f5502-c488-494d-af4c-4adb09e4e23a",
   "metadata": {
    "tags": []
   },
   "outputs": [
    {
     "data": {
      "text/html": [
       "<div>\n",
       "<style scoped>\n",
       "    .dataframe tbody tr th:only-of-type {\n",
       "        vertical-align: middle;\n",
       "    }\n",
       "\n",
       "    .dataframe tbody tr th {\n",
       "        vertical-align: top;\n",
       "    }\n",
       "\n",
       "    .dataframe thead th {\n",
       "        text-align: right;\n",
       "    }\n",
       "</style>\n",
       "<table border=\"1\" class=\"dataframe\">\n",
       "  <thead>\n",
       "    <tr style=\"text-align: right;\">\n",
       "      <th></th>\n",
       "      <th>stars</th>\n",
       "      <th>cleaned_text</th>\n",
       "    </tr>\n",
       "  </thead>\n",
       "  <tbody>\n",
       "    <tr>\n",
       "      <th>26696</th>\n",
       "      <td>4</td>\n",
       "      <td>good starbucks location easy get location larg...</td>\n",
       "    </tr>\n",
       "  </tbody>\n",
       "</table>\n",
       "</div>"
      ],
      "text/plain": [
       "       stars                                       cleaned_text\n",
       "26696      4  good starbucks location easy get location larg..."
      ]
     },
     "execution_count": 56,
     "metadata": {},
     "output_type": "execute_result"
    }
   ],
   "source": [
    "df_valid_review = df_valid_review.drop(['sentiment', 'Sentiment_Category'], axis=1)\n",
    "df_valid_review.head(1)"
   ]
  },
  {
   "cell_type": "code",
   "execution_count": 57,
   "id": "1ec7bfc6-19f8-4d51-8e94-248ef2a06a4a",
   "metadata": {
    "tags": []
   },
   "outputs": [],
   "source": [
    "df_valid_review[\"sentiment\"] = df_valid_review[\"stars\"].apply(lambda x: \"positive\" if x >=3 else \"negative\") # different criteria may apply here"
   ]
  },
  {
   "cell_type": "code",
   "execution_count": 58,
   "id": "fea0c9d7-279e-4fba-8b4c-cb3058a05e3b",
   "metadata": {
    "tags": []
   },
   "outputs": [],
   "source": [
    "import gensim.downloader as api\n",
    "\n",
    "# Load the pretrained model\n",
    "pretrained_model = api.load('glove-wiki-gigaword-50')\n",
    "\n",
    "import numpy as np\n",
    "\n",
    "vector_size = pretrained_model.vector_size  # Get the embedding size\n",
    "\n",
    "tokenized_reviews = df_valid_review[\"cleaned_text\"]\n",
    "\n",
    "embeddings = list(map(lambda tokenized_review: pretrained_model.get_mean_vector(tokenized_review) if len(tokenized_review) > 0 else np.zeros(vector_size), tokenized_reviews))\n",
    "     "
   ]
  },
  {
   "cell_type": "code",
   "execution_count": 59,
   "id": "eac5ca8f-623d-4c62-8797-aa83f2ee4cab",
   "metadata": {
    "tags": []
   },
   "outputs": [],
   "source": [
    "from sklearn.neighbors import KNeighborsClassifier\n",
    "from sklearn.model_selection import train_test_split\n",
    "import sklearn\n",
    "from sklearn.metrics import accuracy_score\n",
    "from sklearn.metrics import confusion_matrix\n",
    "import pandas as pd\n",
    "\n",
    "X= df_valid_review[\"cleaned_text\"]\n",
    "y= df_valid_review[\"sentiment\"]\n",
    "def assess_model(df, X, y_column):\n",
    "  X_train, X_test, y_train, y_test = train_test_split(X, y, test_size=0.2, random_state=42)\n",
    "  # train the model\n",
    "  classifier = KNeighborsClassifier()\n",
    "  classifier.fit(X_train, y_train)\n",
    "\n",
    "  # Predict on the test data\n",
    "  y_pred = classifier.predict(X_test)\n",
    "\n",
    "  # Evaluate the model\n",
    "  accuracy = accuracy_score(y_test, y_pred)\n",
    "  f1_score = sklearn.metrics.f1_score(y_test, y_pred, pos_label=\"positive\")\n",
    "  print(f\"Accuracy: {accuracy}\")\n",
    "  print(f\"f1_score: {f1_score}\")\n",
    "  print(sklearn.metrics.classification_report(y_test,y_pred))\n",
    "  display(pd.DataFrame(confusion_matrix(y_test, y_pred, normalize='true'), columns=classifier.classes_, index=classifier.classes_ ))\n"
   ]
  },
  {
   "cell_type": "code",
   "execution_count": 60,
   "id": "11c7dc77-078a-42e6-834c-5c393e3e7c15",
   "metadata": {
    "tags": []
   },
   "outputs": [
    {
     "name": "stdout",
     "output_type": "stream",
     "text": [
      "Accuracy: 0.6342857142857142\n",
      "f1_score: 0.7217391304347827\n",
      "              precision    recall  f1-score   support\n",
      "\n",
      "    negative       0.49      0.44      0.47        63\n",
      "    positive       0.70      0.74      0.72       112\n",
      "\n",
      "    accuracy                           0.63       175\n",
      "   macro avg       0.60      0.59      0.59       175\n",
      "weighted avg       0.63      0.63      0.63       175\n",
      "\n"
     ]
    },
    {
     "data": {
      "text/html": [
       "<div>\n",
       "<style scoped>\n",
       "    .dataframe tbody tr th:only-of-type {\n",
       "        vertical-align: middle;\n",
       "    }\n",
       "\n",
       "    .dataframe tbody tr th {\n",
       "        vertical-align: top;\n",
       "    }\n",
       "\n",
       "    .dataframe thead th {\n",
       "        text-align: right;\n",
       "    }\n",
       "</style>\n",
       "<table border=\"1\" class=\"dataframe\">\n",
       "  <thead>\n",
       "    <tr style=\"text-align: right;\">\n",
       "      <th></th>\n",
       "      <th>negative</th>\n",
       "      <th>positive</th>\n",
       "    </tr>\n",
       "  </thead>\n",
       "  <tbody>\n",
       "    <tr>\n",
       "      <th>negative</th>\n",
       "      <td>0.444444</td>\n",
       "      <td>0.555556</td>\n",
       "    </tr>\n",
       "    <tr>\n",
       "      <th>positive</th>\n",
       "      <td>0.258929</td>\n",
       "      <td>0.741071</td>\n",
       "    </tr>\n",
       "  </tbody>\n",
       "</table>\n",
       "</div>"
      ],
      "text/plain": [
       "          negative  positive\n",
       "negative  0.444444  0.555556\n",
       "positive  0.258929  0.741071"
      ]
     },
     "metadata": {},
     "output_type": "display_data"
    }
   ],
   "source": [
    "assess_model(cafe_reviews, embeddings, \"sentiment\")"
   ]
  },
  {
   "cell_type": "raw",
   "id": "ccd6f417-8883-47f5-828f-d65ce44a589a",
   "metadata": {},
   "source": [
    "It seems the model is biases towards positive reviews."
   ]
  }
 ],
 "metadata": {
  "environment": {
   "kernel": "conda-base-py",
   "name": "workbench-notebooks.m127",
   "type": "gcloud",
   "uri": "us-docker.pkg.dev/deeplearning-platform-release/gcr.io/workbench-notebooks:m127"
  },
  "kernelspec": {
   "display_name": "Python 3 (ipykernel) (Local)",
   "language": "python",
   "name": "conda-base-py"
  },
  "language_info": {
   "codemirror_mode": {
    "name": "ipython",
    "version": 3
   },
   "file_extension": ".py",
   "mimetype": "text/x-python",
   "name": "python",
   "nbconvert_exporter": "python",
   "pygments_lexer": "ipython3",
   "version": "3.10.16"
  }
 },
 "nbformat": 4,
 "nbformat_minor": 5
}
